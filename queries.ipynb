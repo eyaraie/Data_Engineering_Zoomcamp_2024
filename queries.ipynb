{
 "cells": [
  {
   "cell_type": "code",
   "execution_count": 19,
   "id": "3b3b6a78",
   "metadata": {},
   "outputs": [],
   "source": [
    "import pandas as pd\n",
    "import psycopg2\n",
    "from psycopg2 import sql"
   ]
  },
  {
   "cell_type": "markdown",
   "id": "c38c886a",
   "metadata": {},
   "source": [
    "## Database Querying"
   ]
  },
  {
   "cell_type": "code",
   "execution_count": 37,
   "id": "09399432",
   "metadata": {},
   "outputs": [
    {
     "name": "stdout",
     "output_type": "stream",
     "text": [
      "------- Trip Count on September 18th 2019 -------\n",
      "   trip_count\n",
      "0       15612\n",
      "\n",
      "\n",
      "------- Pickup Day with Largest Trip Distance -------\n",
      "   pickup_day  total_distance\n",
      "0  2019-09-26        58759.94\n",
      "\n",
      "\n",
      "------- Top 3 Boroughs on September 18th 2019 by Total Amount -------\n",
      "     Borough  total_amount\n",
      "0   Brooklyn      96333.24\n",
      "1  Manhattan      92271.30\n",
      "2     Queens      78671.71\n",
      "\n",
      "\n",
      "------- Largest Tip for Drop Off Zone from Astoria in September 2019 -------\n",
      "  dropoff_zone  max_tip\n",
      "0  JFK Airport    62.31\n",
      "\n",
      "\n"
     ]
    }
   ],
   "source": [
    "\n",
    "# Function to connect to the PostgreSQL database\n",
    "def connect_to_db():\n",
    "    return psycopg2.connect(\n",
    "        dbname=\"ny_taxi\",\n",
    "        user=\"root\",\n",
    "        password=\"root\",\n",
    "        host=\"localhost\",\n",
    "        port=\"5432\"\n",
    "    )\n",
    "\n",
    "# Function to execute query and return results as DataFrame\n",
    "def query_db(query, conn, params=None):\n",
    "    with conn.cursor() as cursor:\n",
    "        cursor.execute(query, params)\n",
    "        columns = [desc[0] for desc in cursor.description]\n",
    "        data = cursor.fetchall()\n",
    "        return pd.DataFrame(data, columns=columns)\n",
    "\n",
    "# Establish connection to database\n",
    "conn = connect_to_db()\n",
    "\n",
    "# Queries\n",
    "# 1) How many taxi trips were totally made on September 18th 2019?\n",
    "query1 = \"\"\"\n",
    "SELECT COUNT(*) AS trip_count\n",
    "FROM taxi_table\n",
    "WHERE lpep_pickup_datetime >= '2019-09-18 00:00:00'\n",
    "AND lpep_dropoff_datetime < '2019-09-19 00:00:00';\n",
    "\"\"\"\n",
    "\n",
    "# 2) Which was the pick up day with the largest trip distance?\n",
    "query2 = \"\"\"\n",
    "SELECT lpep_pickup_datetime::date AS pickup_day, SUM(trip_distance) AS total_distance\n",
    "FROM taxi_table\n",
    "WHERE lpep_pickup_datetime::date IN ('2019-09-18', '2019-09-16', '2019-09-26', '2019-09-21')\n",
    "GROUP BY pickup_day\n",
    "ORDER BY total_distance DESC\n",
    "LIMIT 1;\n",
    "\"\"\"\n",
    "\n",
    "# 3) The 3 pick up Boroughs on '2019-09-18' with a sum of total_amount superior to 50000\n",
    "query3 = \"\"\"\n",
    "SELECT l.\"Borough\", SUM(t.\"total_amount\") AS total_amount\n",
    "FROM \"taxi_table\" t\n",
    "JOIN \"taxi_lookup\" l ON t.\"PULocationID\" = l.\"LocationID\"\n",
    "WHERE t.\"lpep_pickup_datetime\"::date = '2019-09-18'\n",
    "AND l.\"Borough\" != 'Unknown'\n",
    "GROUP BY l.\"Borough\"\n",
    "HAVING SUM(t.\"total_amount\") > 50000\n",
    "ORDER BY total_amount DESC\n",
    "LIMIT 3;\n",
    "\"\"\"\n",
    "\n",
    "# 4) For the passengers picked up in Astoria, the drop off zone with the largest tip in September 2019\n",
    "query4 = \"\"\"\n",
    "SELECT l2.\"Zone\" AS dropoff_zone, MAX(t.\"tip_amount\") AS max_tip\n",
    "FROM \"taxi_table\" t\n",
    "JOIN \"taxi_lookup\" l1 ON t.\"PULocationID\" = l1.\"LocationID\"\n",
    "JOIN \"taxi_lookup\" l2 ON t.\"DOLocationID\" = l2.\"LocationID\"\n",
    "WHERE l1.\"Zone\" = 'Astoria'\n",
    "AND t.\"lpep_pickup_datetime\" >= '2019-09-01'\n",
    "AND t.\"lpep_pickup_datetime\" < '2019-10-01'\n",
    "GROUP BY l2.\"Zone\"\n",
    "ORDER BY max_tip DESC\n",
    "LIMIT 1;\n",
    "\"\"\"\n",
    "\n",
    "# Execute queries\n",
    "df1 = query_db(query1, conn)\n",
    "df2 = query_db(query2, conn)\n",
    "df3 = query_db(query3, conn)\n",
    "df4 = query_db(query4, conn)\n",
    "\n",
    "# Close the database connection\n",
    "conn.close()\n",
    "\n",
    "def display_df(df, label):\n",
    "    print(f\"------- {label} -------\")\n",
    "    print(df)\n",
    "    print(\"\\n\")\n",
    "\n",
    "display_df(df1, \"Trip Count on September 18th 2019\")\n",
    "display_df(df2, \"Pickup Day with Largest Trip Distance\")\n",
    "display_df(df3, \"Top 3 Boroughs on September 18th 2019 by Total Amount\")\n",
    "display_df(df4, \"Largest Tip for Drop Off Zone from Astoria in September 2019\")"
   ]
  },
  {
   "cell_type": "code",
   "execution_count": null,
   "id": "32b873d0",
   "metadata": {},
   "outputs": [],
   "source": []
  },
  {
   "cell_type": "markdown",
   "id": "7c87e46a",
   "metadata": {},
   "source": [
    "## Dataframe Operations"
   ]
  },
  {
   "cell_type": "code",
   "execution_count": 33,
   "id": "9931c602",
   "metadata": {},
   "outputs": [
    {
     "data": {
      "text/plain": [
       "{'2019-09-18': 70.28,\n",
       " '2019-09-16': 114.3,\n",
       " '2019-09-26': 341.64,\n",
       " '2019-09-21': 135.53}"
      ]
     },
     "execution_count": 33,
     "metadata": {},
     "output_type": "execute_result"
    }
   ],
   "source": [
    "# 1) How many taxi trips were totally made on September 18th 2019?\n",
    "\n",
    "df = pd.read_csv('green_tripdata_2019-09.csv',low_memory=False)\n",
    "\n",
    "# Convert the 'lpep_pickup_datetime' column to datetime\n",
    "df['lpep_pickup_datetime'] = pd.to_datetime(df['lpep_pickup_datetime'])\n",
    "\n",
    "# List of dates to check\n",
    "dates_to_check = ['2019-09-18', '2019-09-16', '2019-09-26', '2019-09-21']\n",
    "\n",
    "# Initialize a dictionary to store the maximum trip distance for each date\n",
    "largest_trip_each_day = {}\n",
    "\n",
    "\n",
    "for date in dates_to_check:\n",
    "    # Filter the dataframe for the specific date and calculate the maximum trip distance\n",
    "    max_trip_distance = df[df['lpep_pickup_datetime'].dt.date == pd.to_datetime(date).date()]['trip_distance'].max()\n",
    "    largest_trip_each_day[date] = max_trip_distance\n",
    "\n",
    "\n",
    "largest_trip_each_day"
   ]
  },
  {
   "cell_type": "code",
   "execution_count": 34,
   "id": "39f6e65d",
   "metadata": {},
   "outputs": [
    {
     "data": {
      "text/plain": [
       "15612"
      ]
     },
     "execution_count": 34,
     "metadata": {},
     "output_type": "execute_result"
    }
   ],
   "source": [
    "# 2) Which was the pick up day with the largest trip distance?\n",
    "\n",
    "df['lpep_dropoff_datetime'] = pd.to_datetime(df['lpep_dropoff_datetime'])\n",
    "\n",
    "# Filter the DataFrame for trips that started and ended on September 18th, 2019\n",
    "trips_on_sept_18 = df[(df['lpep_pickup_datetime'].dt.date == pd.to_datetime('2019-09-18').date()) &\n",
    "                      (df['lpep_dropoff_datetime'].dt.date == pd.to_datetime('2019-09-18').date())]\n",
    "\n",
    "# Calculate the number of trips\n",
    "num_trips_on_sept_18 = len(trips_on_sept_18)\n",
    "\n",
    "num_trips_on_sept_18"
   ]
  },
  {
   "cell_type": "code",
   "execution_count": 35,
   "id": "fd22fed5",
   "metadata": {},
   "outputs": [
    {
     "data": {
      "text/html": [
       "<div>\n",
       "<style scoped>\n",
       "    .dataframe tbody tr th:only-of-type {\n",
       "        vertical-align: middle;\n",
       "    }\n",
       "\n",
       "    .dataframe tbody tr th {\n",
       "        vertical-align: top;\n",
       "    }\n",
       "\n",
       "    .dataframe thead th {\n",
       "        text-align: right;\n",
       "    }\n",
       "</style>\n",
       "<table border=\"1\" class=\"dataframe\">\n",
       "  <thead>\n",
       "    <tr style=\"text-align: right;\">\n",
       "      <th></th>\n",
       "      <th>Borough</th>\n",
       "      <th>total_amount</th>\n",
       "    </tr>\n",
       "  </thead>\n",
       "  <tbody>\n",
       "    <tr>\n",
       "      <th>1</th>\n",
       "      <td>Brooklyn</td>\n",
       "      <td>96333.24</td>\n",
       "    </tr>\n",
       "    <tr>\n",
       "      <th>2</th>\n",
       "      <td>Manhattan</td>\n",
       "      <td>92271.30</td>\n",
       "    </tr>\n",
       "    <tr>\n",
       "      <th>3</th>\n",
       "      <td>Queens</td>\n",
       "      <td>78671.71</td>\n",
       "    </tr>\n",
       "  </tbody>\n",
       "</table>\n",
       "</div>"
      ],
      "text/plain": [
       "     Borough  total_amount\n",
       "1   Brooklyn      96333.24\n",
       "2  Manhattan      92271.30\n",
       "3     Queens      78671.71"
      ]
     },
     "execution_count": 35,
     "metadata": {},
     "output_type": "execute_result"
    }
   ],
   "source": [
    "# 3) The 3 pick up Boroughs on '2019-09-18' with a sum of total_amount superior to 50000\n",
    "\n",
    "df = pd.read_csv('green_tripdata_2019-09.csv',low_memory=False)\n",
    "lookup = pd.read_csv('taxi+_zone_lookup.csv')  # The path to your lookup table CSV\n",
    "\n",
    "\n",
    "# Convert 'lpep_pickup_datetime' to datetime\n",
    "df['lpep_pickup_datetime'] = pd.to_datetime(df['lpep_pickup_datetime'])\n",
    "\n",
    "# Filter the DataFrame for trips on September 18th, 2019\n",
    "df_sept_18 = df[df['lpep_pickup_datetime'].dt.date == pd.to_datetime('2019-09-18').date()]\n",
    "\n",
    "# Merge the trip data with the lookup table to associate each trip with a borough\n",
    "df_sept_18_with_boroughs = df_sept_18.merge(lookup, how='left', left_on='PULocationID', right_on='LocationID')\n",
    "\n",
    "# Filter out unknown boroughs\n",
    "df_known_boroughs = df_sept_18_with_boroughs[df_sept_18_with_boroughs['Borough'] != 'Unknown']\n",
    "\n",
    "# Group by borough and sum the total_amount, then filter for sums greater than 50000\n",
    "borough_totals = df_known_boroughs.groupby('Borough')['total_amount'].sum().reset_index()\n",
    "boroughs_over_50k = borough_totals[borough_totals['total_amount'] > 50000]\n",
    "\n",
    "# Find the top 3 boroughs with the highest total_amount\n",
    "top_3_boroughs = boroughs_over_50k.nlargest(3, 'total_amount')\n",
    "\n",
    "top_3_boroughs\n"
   ]
  },
  {
   "cell_type": "code",
   "execution_count": 36,
   "id": "5b6e89dd",
   "metadata": {},
   "outputs": [
    {
     "data": {
      "text/plain": [
       "'JFK Airport'"
      ]
     },
     "execution_count": 36,
     "metadata": {},
     "output_type": "execute_result"
    }
   ],
   "source": [
    "# 4) For the passengers picked up in Astoria, the drop off zone with the largest tip in September 2019\n",
    "\n",
    "df = pd.read_csv('green_tripdata_2019-09.csv',low_memory=False)\n",
    "zone_lookup = pd.read_csv('taxi+_zone_lookup.csv')  # The path to your lookup table CSV\n",
    "\n",
    "# Ensure datetime format is correct\n",
    "df['lpep_pickup_datetime'] = pd.to_datetime(df['lpep_pickup_datetime'])\n",
    "\n",
    "# Filter the trips for September 2019\n",
    "df_september = df[df['lpep_pickup_datetime'].dt.month == 9]\n",
    "\n",
    "# Merge with the zone lookup table to get the pickup zone names\n",
    "df_september = df_september.merge(zone_lookup, left_on='PULocationID', right_on='LocationID', suffixes=('', '_pickup'))\n",
    "\n",
    "# Filter for trips that were picked up in 'Astoria'\n",
    "astoria_trips = df_september[df_september['Zone'] == 'Astoria']\n",
    "\n",
    "# Find the record with the largest tip amount\n",
    "max_tip_record = astoria_trips.loc[astoria_trips['tip_amount'].idxmax()]\n",
    "\n",
    "# Get the drop-off location ID from the record with the largest tip\n",
    "max_tip_dropoff_location_id = max_tip_record['DOLocationID']\n",
    "\n",
    "# Lookup the zone name for the drop-off location\n",
    "max_tip_dropoff_zone = zone_lookup[zone_lookup['LocationID'] == max_tip_dropoff_location_id]['Zone'].values[0]\n",
    "\n",
    "max_tip_dropoff_zone\n"
   ]
  },
  {
   "cell_type": "code",
   "execution_count": 27,
   "id": "842e1ac3",
   "metadata": {},
   "outputs": [
    {
     "name": "stdout",
     "output_type": "stream",
     "text": [
      "------- Trip Count on September 18th 2019 -------\n",
      "   trip_count\n",
      "0       15612\n",
      "\n",
      "\n",
      "------- Pickup Day with Largest Trip Distance -------\n",
      "   pickup_day  total_distance\n",
      "0  2019-09-26        58759.94\n",
      "\n",
      "\n",
      "------- Top 3 Boroughs on September 18th 2019 by Total Amount -------\n",
      "     Borough  total_amount\n",
      "0   Brooklyn      96333.24\n",
      "1  Manhattan      92271.30\n",
      "2     Queens      78671.71\n",
      "\n",
      "\n",
      "------- Largest Tip for Drop Off Zone from Astoria in September 2019 -------\n",
      "  dropoff_zone  max_tip\n",
      "0  JFK Airport    62.31\n",
      "\n",
      "\n"
     ]
    }
   ],
   "source": []
  }
 ],
 "metadata": {
  "kernelspec": {
   "display_name": "Python 3 (ipykernel)",
   "language": "python",
   "name": "python3"
  },
  "language_info": {
   "codemirror_mode": {
    "name": "ipython",
    "version": 3
   },
   "file_extension": ".py",
   "mimetype": "text/x-python",
   "name": "python",
   "nbconvert_exporter": "python",
   "pygments_lexer": "ipython3",
   "version": "3.11.5"
  }
 },
 "nbformat": 4,
 "nbformat_minor": 5
}
